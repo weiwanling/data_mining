{
 "cells": [
  {
   "cell_type": "code",
   "execution_count": 41,
   "metadata": {},
   "outputs": [],
   "source": [
    "from numpy import *\n",
    "\n",
    "def loadDataSet(fileName,delim='\\t'):\n",
    "    fr=open(fileName)\n",
    "    stringArr=[line.strip().split(delim) for line in fr.readlines()]\n",
    "    datArr=[list(map(float,line)) for line in stringArr]\n",
    "    return mat(datArr)\n",
    "\n",
    "\n",
    "def replaceNanWithMean():\n",
    "    dataMat=loadDataSet('secom.data',' ')\n",
    "    numFeat=shape(dataMat)[1]\n",
    "    for i in range(numFeat):\n",
    "        #剔除缺失值后的均值\n",
    "        meanVal = mean(dataMat[nonzero(~isnan(dataMat[:,i].A))[0],i]) \n",
    "        #用均值填充缺失值\n",
    "        dataMat[nonzero(isnan(dataMat[:,i].A))[0],i] = meanVal  #set NaN values to mean\n",
    "    \n",
    "    return dataMat\n",
    "\n",
    "def pca(dataMat,topNfeat=9999999999):\n",
    "    meanVals=mean(dataMat,axis=0)\n",
    "    \n",
    "     #去均值化，均值变为0\n",
    "    meanRemoved = dataMat - meanVals \n",
    "    # 计算协方差矩阵\n",
    "    covMat=cov(meanRemoved,rowvar=0)\n",
    "    #计算特征值和特征向量\n",
    "    eigVals,eigVects=linalg.eig(mat(covMat))\n",
    "    #特征值从小到大排名，返回该值索引\n",
    "    eigValInd=argsort(eigVals)\n",
    "    #取前topNfeat个大的值\n",
    "    eigValInd = eigValInd[:-(topNfeat+1):-1]  \n",
    "    #取出最大的N个特征所对应的N个特征向量\n",
    "    redEigVects = eigVects[:,eigValInd]       \n",
    "    #降维后的数据\n",
    "    lowDDataMat = meanRemoved * redEigVects    \n",
    "    #利用降维后的矩阵反构出原数据矩阵（用作测试，可以跟未压缩的原矩阵比对）\n",
    "    reconMat = (lowDDataMat * redEigVects.T) + meanVals\n",
    "\n",
    "    \n",
    "    return lowDDataMat,reconMat,eigVals[eigValInd],eigVals\n",
    "\n",
    "\n",
    "\n",
    "\n",
    "    \n",
    "    "
   ]
  },
  {
   "cell_type": "code",
   "execution_count": 42,
   "metadata": {},
   "outputs": [
    {
     "name": "stdout",
     "output_type": "stream",
     "text": [
      "[[3.0309300e+03 2.5640000e+03 2.1877333e+03 ...           nan\n",
      "            nan           nan]\n",
      " [3.0957800e+03 2.4651400e+03 2.2304222e+03 ... 2.0100000e-02\n",
      "  6.0000000e-03 2.0820450e+02]\n",
      " [2.9326100e+03 2.5599400e+03 2.1864111e+03 ... 4.8400000e-02\n",
      "  1.4800000e-02 8.2860200e+01]\n",
      " ...\n",
      " [2.9788100e+03 2.3797800e+03 2.2063000e+03 ... 8.6000000e-03\n",
      "  2.5000000e-03 4.3523100e+01]\n",
      " [2.8949200e+03 2.5320100e+03 2.1770333e+03 ... 2.4500000e-02\n",
      "  7.5000000e-03 9.3494100e+01]\n",
      " [2.9449200e+03 2.4507600e+03 2.1954444e+03 ... 1.6200000e-02\n",
      "  4.5000000e-03 1.3778440e+02]]\n",
      "(1567, 590)\n"
     ]
    }
   ],
   "source": [
    "dataMat=loadDataSet('secom.data',' ')\n",
    "\n",
    "print(dataMat,shape(dataMat),sep='\\n')\n"
   ]
  },
  {
   "cell_type": "code",
   "execution_count": 43,
   "metadata": {},
   "outputs": [
    {
     "name": "stdout",
     "output_type": "stream",
     "text": [
      "[[3.03093000e+03 2.56400000e+03 2.18773330e+03 ... 1.64749042e-02\n",
      "  5.28333333e-03 9.96700663e+01]\n",
      " [3.09578000e+03 2.46514000e+03 2.23042220e+03 ... 2.01000000e-02\n",
      "  6.00000000e-03 2.08204500e+02]\n",
      " [2.93261000e+03 2.55994000e+03 2.18641110e+03 ... 4.84000000e-02\n",
      "  1.48000000e-02 8.28602000e+01]\n",
      " ...\n",
      " [2.97881000e+03 2.37978000e+03 2.20630000e+03 ... 8.60000000e-03\n",
      "  2.50000000e-03 4.35231000e+01]\n",
      " [2.89492000e+03 2.53201000e+03 2.17703330e+03 ... 2.45000000e-02\n",
      "  7.50000000e-03 9.34941000e+01]\n",
      " [2.94492000e+03 2.45076000e+03 2.19544440e+03 ... 1.62000000e-02\n",
      "  4.50000000e-03 1.37784400e+02]]\n",
      "(1567, 590)\n"
     ]
    }
   ],
   "source": [
    "dataMat=replaceNanWithMean()\n",
    "\n",
    "print(dataMat,shape(dataMat),sep='\\n')\n"
   ]
  },
  {
   "cell_type": "code",
   "execution_count": null,
   "metadata": {},
   "outputs": [],
   "source": []
  },
  {
   "cell_type": "code",
   "execution_count": 44,
   "metadata": {},
   "outputs": [
    {
     "name": "stdout",
     "output_type": "stream",
     "text": [
      "(1567, 20) (1567, 590)\n"
     ]
    }
   ],
   "source": [
    "\n",
    "lowDataMat,reconMat,eigVals_topN,eigVals=pca(dataMat,topNfeat=20)\n",
    "print(shape(lowDataMat),shape(reconMat))\n",
    "\n",
    "\n"
   ]
  },
  {
   "cell_type": "code",
   "execution_count": 35,
   "metadata": {},
   "outputs": [
    {
     "data": {
      "text/plain": [
       "(20,)"
      ]
     },
     "execution_count": 35,
     "metadata": {},
     "output_type": "execute_result"
    }
   ],
   "source": [
    "shape(eigVals_topN)"
   ]
  },
  {
   "cell_type": "code",
   "execution_count": 45,
   "metadata": {},
   "outputs": [
    {
     "data": {
      "image/png": "[encoded data removed]",
      "text/plain": [
       "<Figure size 936x432 with 1 Axes>"
      ]
     },
     "metadata": {
      "needs_background": "light"
     },
     "output_type": "display_data"
    }
   ],
   "source": [
    "import matplotlib.pyplot as plt\n",
    "%matplotlib inline\n",
    "\n",
    "plt.figure(figsize=(13,6))\n",
    "Var = eigVals_topN\n",
    "Var_sum = sum(eigVals)\n",
    "Var_rate = Var/Var_sum\n",
    "plt.plot(Var_rate,'s-') \n",
    "plt.show()"
   ]
  },
  {
   "cell_type": "code",
   "execution_count": 50,
   "metadata": {},
   "outputs": [
    {
     "data": {
      "text/plain": [
       "array([0.59254058, 0.24123819, 0.09150014, 0.02300579, 0.01459192,\n",
       "       0.00518818, 0.00322658, 0.00314677, 0.0026308 , 0.00231307,\n",
       "       0.00217535, 0.00207282, 0.00169084, 0.00125591, 0.00120353,\n",
       "       0.00114092, 0.00111115, 0.00092458, 0.00090503, 0.00086145])"
      ]
     },
     "execution_count": 50,
     "metadata": {},
     "output_type": "execute_result"
    }
   ],
   "source": [
    "Var_rate\n"
   ]
  },
  {
   "cell_type": "code",
   "execution_count": null,
   "metadata": {},
   "outputs": [],
   "source": []
  },
  {
   "cell_type": "code",
   "execution_count": null,
   "metadata": {},
   "outputs": [],
   "source": []
  },
  {
   "cell_type": "code",
   "execution_count": null,
   "metadata": {},
   "outputs": [],
   "source": []
  },
  {
   "cell_type": "code",
   "execution_count": null,
   "metadata": {},
   "outputs": [],
   "source": []
  },
  {
   "cell_type": "code",
   "execution_count": null,
   "metadata": {},
   "outputs": [],
   "source": []
  }
 ],
 "metadata": {
  "kernelspec": {
   "display_name": "Python 3",
   "language": "python",
   "name": "python3"
  },
  "language_info": {
   "codemirror_mode": {
    "name": "ipython",
    "version": 3
   },
   "file_extension": ".py",
   "mimetype": "text/x-python",
   "name": "python",
   "nbconvert_exporter": "python",
   "pygments_lexer": "ipython3",
   "version": "3.7.3"
  }
 },
 "nbformat": 4,
 "nbformat_minor": 2
}
