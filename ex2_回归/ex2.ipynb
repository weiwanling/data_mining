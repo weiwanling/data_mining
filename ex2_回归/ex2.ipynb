{
 "cells": [
  {
   "cell_type": "code",
   "execution_count": 9,
   "metadata": {},
   "outputs": [],
   "source": [
    "import pandas as pd\n",
    "import numpy as np\n",
    "from sklearn.linear_model import LinearRegression \n",
    "from sklearn.metrics import classification_report\n",
    "import matplotlib.pyplot as plt\n",
    "from numpy import *"
   ]
  },
  {
   "cell_type": "markdown",
   "metadata": {},
   "source": [
    "##  线性回归模型使用"
   ]
  },
  {
   "cell_type": "code",
   "execution_count": 10,
   "metadata": {},
   "outputs": [
    {
     "data": {
      "text/html": [
       "<div>\n",
       "<style scoped>\n",
       "    .dataframe tbody tr th:only-of-type {\n",
       "        vertical-align: middle;\n",
       "    }\n",
       "\n",
       "    .dataframe tbody tr th {\n",
       "        vertical-align: top;\n",
       "    }\n",
       "\n",
       "    .dataframe thead th {\n",
       "        text-align: right;\n",
       "    }\n",
       "</style>\n",
       "<table border=\"1\" class=\"dataframe\">\n",
       "  <thead>\n",
       "    <tr style=\"text-align: right;\">\n",
       "      <th></th>\n",
       "      <th>0</th>\n",
       "      <th>1</th>\n",
       "    </tr>\n",
       "  </thead>\n",
       "  <tbody>\n",
       "    <tr>\n",
       "      <td>0</td>\n",
       "      <td>32.502345</td>\n",
       "      <td>31.707006</td>\n",
       "    </tr>\n",
       "    <tr>\n",
       "      <td>1</td>\n",
       "      <td>53.426804</td>\n",
       "      <td>68.777596</td>\n",
       "    </tr>\n",
       "    <tr>\n",
       "      <td>2</td>\n",
       "      <td>61.530358</td>\n",
       "      <td>62.562382</td>\n",
       "    </tr>\n",
       "    <tr>\n",
       "      <td>3</td>\n",
       "      <td>47.475640</td>\n",
       "      <td>71.546632</td>\n",
       "    </tr>\n",
       "  </tbody>\n",
       "</table>\n",
       "</div>"
      ],
      "text/plain": [
       "           0          1\n",
       "0  32.502345  31.707006\n",
       "1  53.426804  68.777596\n",
       "2  61.530358  62.562382\n",
       "3  47.475640  71.546632"
      ]
     },
     "execution_count": 10,
     "metadata": {},
     "output_type": "execute_result"
    }
   ],
   "source": [
    "data=pd.read_csv('data.csv',header=None)\n",
    "data[:4]"
   ]
  },
  {
   "cell_type": "code",
   "execution_count": 11,
   "metadata": {},
   "outputs": [
    {
     "data": {
      "text/plain": [
       "[<matplotlib.lines.Line2D at 0x7efeefc9dc10>,\n",
       " <matplotlib.lines.Line2D at 0x7efeefc76ed0>]"
      ]
     },
     "execution_count": 11,
     "metadata": {},
     "output_type": "execute_result"
    },
    {
     "data": {
      "image/png": "[encoded data removed]",
      "text/plain": [
       "<Figure size 432x288 with 1 Axes>"
      ]
     },
     "metadata": {
      "needs_background": "light"
     },
     "output_type": "display_data"
    }
   ],
   "source": [
    "plt.plot(data,'b.')"
   ]
  },
  {
   "cell_type": "code",
   "execution_count": 12,
   "metadata": {},
   "outputs": [
    {
     "data": {
      "text/plain": [
       "LinearRegression(copy_X=True, fit_intercept=True, n_jobs=None, normalize=False)"
      ]
     },
     "execution_count": 12,
     "metadata": {},
     "output_type": "execute_result"
    }
   ],
   "source": [
    "x_data=data.iloc[:,0];   x_data_t=np.array(x_data).reshape(-1,1)\n",
    "y_data=data.iloc[:,1]\n",
    "lr_model=LinearRegression()\n",
    "lr_model.fit(x_data_t,y_data)\n"
   ]
  },
  {
   "cell_type": "code",
   "execution_count": 13,
   "metadata": {},
   "outputs": [
    {
     "data": {
      "text/plain": [
       "[<matplotlib.lines.Line2D at 0x7efeefc9d1d0>]"
      ]
     },
     "execution_count": 13,
     "metadata": {},
     "output_type": "execute_result"
    },
    {
     "data": {
      "image/png": "[encoded data removed]",
      "text/plain": [
       "<Figure size 432x288 with 1 Axes>"
      ]
     },
     "metadata": {
      "needs_background": "light"
     },
     "output_type": "display_data"
    }
   ],
   "source": [
    "plt.plot(data,'b.')\n",
    "plt.plot(x_data_t,lr_model.predict(x_data_t),'r')"
   ]
  },
  {
   "cell_type": "markdown",
   "metadata": {},
   "source": [
    "##  逻辑回归模型使用"
   ]
  },
  {
   "cell_type": "code",
   "execution_count": 14,
   "metadata": {},
   "outputs": [],
   "source": [
    "from sklearn.linear_model import LogisticRegression\n",
    "\n",
    "def loadDataset(filename):\n",
    "    fr=open(filename,'r')\n",
    "    x=[]; y=[];\n",
    "    i=0\n",
    "    for line in fr.readlines():\n",
    "        #i+=1\n",
    "        currLine=line.strip().split()\n",
    "        #print('======\\n',currLine,len(currLine),i,'=======\\n')\n",
    "        arrLine=[float(line) for line in currLine]\n",
    "        x.append(arrLine[:21])\n",
    "        y.append(arrLine[21])\n",
    "    fr.close()\n",
    "    return x,y\n",
    "\n",
    "        \n",
    "    \n",
    "    \n",
    "   "
   ]
  },
  {
   "cell_type": "code",
   "execution_count": 15,
   "metadata": {},
   "outputs": [
    {
     "name": "stderr",
     "output_type": "stream",
     "text": [
      "/home/wei/anaconda3/lib/python3.7/site-packages/sklearn/linear_model/sag.py:337: ConvergenceWarning: The max_iter was reached which means the coef_ did not converge\n",
      "  \"the coef_ did not converge\", ConvergenceWarning)\n"
     ]
    },
    {
     "data": {
      "text/plain": [
       "LogisticRegression(C=1.0, class_weight=None, dual=False, fit_intercept=True,\n",
       "                   intercept_scaling=1, l1_ratio=None, max_iter=100,\n",
       "                   multi_class='warn', n_jobs=None, penalty='l2',\n",
       "                   random_state=None, solver='saga', tol=0.0001, verbose=0,\n",
       "                   warm_start=False)"
      ]
     },
     "execution_count": 15,
     "metadata": {},
     "output_type": "execute_result"
    }
   ],
   "source": [
    "x_train,y_train=loadDataset('./logisticTraining.txt')\n",
    "x_test,y_test=loadDataset('./logisticTest.txt')\n",
    "\n",
    "#Logistic Regression supports only solvers in ['liblinear', \n",
    "# 'newton-cg', 'lbfgs','sag', 'saga'], got silence.\n",
    "\n",
    "lgr=LogisticRegression(solver='saga')\n",
    "lgr.fit(x_train,y_train) "
   ]
  },
  {
   "cell_type": "code",
   "execution_count": 16,
   "metadata": {},
   "outputs": [
    {
     "name": "stdout",
     "output_type": "stream",
     "text": [
      "(299, 21)\n"
     ]
    },
    {
     "data": {
      "text/plain": [
       "(299,)"
      ]
     },
     "execution_count": 16,
     "metadata": {},
     "output_type": "execute_result"
    }
   ],
   "source": [
    "print(shape(x_train))\n",
    "shape(y_train)"
   ]
  },
  {
   "cell_type": "code",
   "execution_count": 17,
   "metadata": {},
   "outputs": [
    {
     "name": "stdout",
     "output_type": "stream",
     "text": [
      "              precision    recall  f1-score   support\n",
      "\n",
      "         0.0       0.62      0.65      0.63        20\n",
      "         1.0       0.85      0.83      0.84        47\n",
      "\n",
      "    accuracy                           0.78        67\n",
      "   macro avg       0.73      0.74      0.74        67\n",
      "weighted avg       0.78      0.78      0.78        67\n",
      "\n"
     ]
    }
   ],
   "source": [
    "y_pred=lgr.predict(x_test)\n",
    "report=classification_report(y_test,y_pred)\n",
    "print(report)"
   ]
  },
  {
   "cell_type": "markdown",
   "metadata": {},
   "source": [
    "## 自编线性回归模型"
   ]
  },
  {
   "cell_type": "code",
   "execution_count": null,
   "metadata": {},
   "outputs": [],
   "source": [
    "import numpy as np\n",
    " \n",
    "def loadDataSet(fileName):\n",
    "    dataMat=[]\n",
    "    labelMat=[]\n",
    "    fr=open(fileName)\n",
    "    for line in fr.readlines():\n",
    "        curLine=line.strip().split('\\t')\n",
    "        dataMat.append(list(map(float,curLine[:-1])))\n",
    "        labelMat.append(float(curLine[-1]))\n",
    "    return dataMat,labelMat"
   ]
  },
  {
   "cell_type": "code",
   "execution_count": 46,
   "metadata": {},
   "outputs": [
    {
     "name": "stdout",
     "output_type": "stream",
     "text": [
      "              precision    recall  f1-score   support\n",
      "\n",
      "           0       0.65      0.52      0.58        25\n",
      "           1       0.74      0.83      0.79        42\n",
      "\n",
      "    accuracy                           0.72        67\n",
      "   macro avg       0.70      0.68      0.68        67\n",
      "weighted avg       0.71      0.72      0.71        67\n",
      "\n"
     ]
    }
   ],
   "source": [
    "def standRegress(xArr,yArr):\n",
    "    xMat=np.mat(xArr)\n",
    "    yMat=np.mat(yArr).T\n",
    "    xTx=xMat.T*xMat\n",
    "    if np.linalg.det(xTx)==0.0:\n",
    "        \n",
    "        return\n",
    "    ws=xTx.I*(xMat.T*yMat)\n",
    "    return ws\n",
    " \n",
    "xArr,yArr=loadDataSet('logisticTraining.txt')\n",
    "ws=standRegress(xArr,yArr)\n",
    "\n",
    "\n",
    "\n",
    "x_test,ytest=loadDataSet('logisticTest.txt')\n",
    "y=x_test*ws\n",
    "y_pred= [  1 if(i>=0.5)  else 0  for i in  y]\n",
    "\n",
    "print(classification_report(y_pred,y_test))\n",
    "                "
   ]
  },
  {
   "cell_type": "markdown",
   "metadata": {},
   "source": [
    "## 自编逻辑回归模型"
   ]
  },
  {
   "cell_type": "code",
   "execution_count": 139,
   "metadata": {},
   "outputs": [],
   "source": [
    "\n",
    "# //  梯度上升\n",
    "def grad_descent(dataMatIn, classLabels):\n",
    "    dataMatrix = np.mat(dataMatIn)  #(m,n)\n",
    "    labelMat = np.mat(classLabels).transpose()\n",
    "    m, n = np.shape(dataMatrix)\n",
    "    weights = np.ones((n, 1))  #初始化回归系数（n, 1)\n",
    "    alpha = 0.001 #步长\n",
    "    maxCycle = 5000  #最大循环次数\n",
    "\n",
    "    for i in range(maxCycle):\n",
    "        h = sigmoid(dataMatrix * weights)  #sigmoid 函数\n",
    "        weights = weights + alpha * dataMatrix.transpose() * (labelMat - h)  #梯度\n",
    "    return weights\n",
    "\n",
    "def sigmoid(z):\n",
    "    return 1 / (1 + np.exp(-z))\n",
    "\n",
    "def stoc_grad_ascent_one(dataMatIn, classLabels, numIter=250):\n",
    "    dataMatIn=np.array(dataMatIn)\n",
    "    m, n = np.shape(dataMatIn)\n",
    "    weights = np.ones(n)\n",
    "    for j in range(numIter):\n",
    "        dataIndex = list(range(m))\n",
    "        for i in range(m):\n",
    "            alpha = 4 / (1 + i + j) + 0.01 #保证多次迭代后新数据仍然有影响力\n",
    "            randIndex = int(np.random.uniform(0, len(dataIndex)))\n",
    "            h = sigmoid(sum(dataMatIn[i] * weights))  # 数值计算\n",
    "            error = classLabels[i] - h\n",
    "            weights = weights + (alpha * error )* dataMatIn[i]\n",
    "            del(dataIndex[randIndex])\n",
    "    return np.array(weights)"
   ]
  },
  {
   "cell_type": "code",
   "execution_count": 140,
   "metadata": {},
   "outputs": [
    {
     "name": "stderr",
     "output_type": "stream",
     "text": [
      "/home/wei/anaconda3/lib/python3.7/site-packages/ipykernel_launcher.py:2: RuntimeWarning: overflow encountered in exp\n",
      "  \n"
     ]
    },
    {
     "name": "stdout",
     "output_type": "stream",
     "text": [
      "[31.90291109  1.78603803  2.45587166 -0.07318486 -0.52126603]\n"
     ]
    },
    {
     "data": {
      "text/plain": [
       "(21,)"
      ]
     },
     "execution_count": 140,
     "metadata": {},
     "output_type": "execute_result"
    }
   ],
   "source": [
    "#模型训练\n",
    "dataMatIn, classLabels = loadDataSet('logisticTraining.txt')\n",
    "\n",
    "# 普通梯度上升\n",
    "# w = grad_descent(dataMatIn, classLabels)\n",
    "\n",
    "# 随机梯度上升\n",
    "w = stoc_grad_ascent_one(dataMatIn, classLabels)\n",
    "\n",
    "print(w[:5])\n",
    "shape(w)"
   ]
  },
  {
   "cell_type": "code",
   "execution_count": 141,
   "metadata": {},
   "outputs": [
    {
     "name": "stdout",
     "output_type": "stream",
     "text": [
      "(67,)\n",
      "              precision    recall  f1-score   support\n",
      "\n",
      "           0       0.80      0.47      0.59        34\n",
      "           1       0.62      0.88      0.73        33\n",
      "\n",
      "    accuracy                           0.67        67\n",
      "   macro avg       0.71      0.67      0.66        67\n",
      "weighted avg       0.71      0.67      0.66        67\n",
      "\n"
     ]
    }
   ],
   "source": [
    "#模型测试及评估\n",
    "x_test,y_test=loadDataSet('logisticTest.txt')\n",
    "y=np.matmul(x_test,w)\n",
    "print(shape(y))\n",
    "y_pred=[ 1 if(sigmoid( i)>=0.5)  else 0 for i in y]\n",
    "\n",
    "print(classification_report(y_pred,y_test))\n",
    "                "
   ]
  },
  {
   "cell_type": "code",
   "execution_count": null,
   "metadata": {},
   "outputs": [],
   "source": []
  }
 ],
 "metadata": {
  "kernelspec": {
   "display_name": "Python 3",
   "language": "python",
   "name": "python3"
  },
  "language_info": {
   "codemirror_mode": {
    "name": "ipython",
    "version": 3
   },
   "file_extension": ".py",
   "mimetype": "text/x-python",
   "name": "python",
   "nbconvert_exporter": "python",
   "pygments_lexer": "ipython3",
   "version": "3.7.3"
  }
 },
 "nbformat": 4,
 "nbformat_minor": 2
}
