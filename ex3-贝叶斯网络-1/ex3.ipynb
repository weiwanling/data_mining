{
 "cells": [
  {
   "cell_type": "code",
   "execution_count": 6,
   "metadata": {},
   "outputs": [],
   "source": [
    "#!pip install pgmpy\n",
    "#!pip install torch"
   ]
  },
  {
   "cell_type": "code",
   "execution_count": 7,
   "metadata": {},
   "outputs": [],
   "source": [
    "from pgmpy.factors.discrete import TabularCPD\n",
    "from pgmpy.models import BayesianModel"
   ]
  },
  {
   "cell_type": "code",
   "execution_count": 9,
   "metadata": {},
   "outputs": [],
   "source": [
    "student_model = BayesianModel(\n",
    "                               [('D', 'G'),\n",
    "                                ('I', 'G'),\n",
    "                                ('G', 'L'),\n",
    "                                ('I', 'S')\n",
    "                               ]\n",
    "                             )"
   ]
  },
  {
   "cell_type": "markdown",
   "metadata": {},
   "source": [
    "![贝叶斯网络结构](https://ss.csdn.net/p?https://mmbiz.qpic.cn/mmbiz_png/4lN1XOZshfcFcjk5sb3MwtKrY9BXVLvLpw8WHoibhmDLtibFkkCwTpSjELxOuRKk6OHn9bbhu25g3hdnKOoCwHNg/640?wx_fmt=png)"
   ]
  },
  {
   "cell_type": "code",
   "execution_count": 10,
   "metadata": {},
   "outputs": [],
   "source": [
    "grade_cpd = TabularCPD( \n",
    "    variable='G', # 节点名称    \n",
    "    variable_card=3, # 节点取值个数   \n",
    "    values=[[0.3, 0.05, 0.9, 0.5], # 该节点的概率表    \n",
    "    [0.4, 0.25, 0.08, 0.3], \n",
    "    [0.3, 0.7, 0.02, 0.2]], \n",
    "    evidence=['I', 'D'], # 该节点的依赖节点 \n",
    "    evidence_card=[2, 2] # 依赖节点的取值个数    \n",
    ")   \n",
    " \n",
    "    \n",
    "difficulty_cpd = TabularCPD(    \n",
    "            variable='D',   \n",
    "            variable_card=2,    \n",
    "            values=[[0.6, 0.4]] \n",
    ")   \n",
    " \n",
    "    \n",
    "intel_cpd = TabularCPD( \n",
    "            variable='I',   \n",
    "            variable_card=2,    \n",
    "            values=[[0.7, 0.3]] \n",
    ")   \n",
    " \n",
    "    \n",
    "letter_cpd = TabularCPD(    \n",
    "            variable='L',   \n",
    "            variable_card=2,    \n",
    "            values=[[0.1, 0.4, 0.99],   \n",
    "            [0.9, 0.6, 0.01]],  \n",
    "            evidence=['G'], \n",
    "            evidence_card=[3]   \n",
    ")   \n",
    " \n",
    "    \n",
    "sat_cpd = TabularCPD(   \n",
    "            variable='S',   \n",
    "            variable_card=2,    \n",
    "            values=[[0.95, 0.2],    \n",
    "            [0.05, 0.8]],   \n",
    "            evidence=['I'], \n",
    "            evidence_card=[2]   \n",
    ")"
   ]
  },
  {
   "cell_type": "code",
   "execution_count": 11,
   "metadata": {},
   "outputs": [],
   "source": [
    "student_model.add_cpds( \n",
    "    grade_cpd,  \n",
    "    difficulty_cpd, \n",
    "    intel_cpd,  \n",
    "    letter_cpd, \n",
    "    sat_cpd \n",
    ")"
   ]
  },
  {
   "cell_type": "code",
   "execution_count": 12,
   "metadata": {},
   "outputs": [
    {
     "data": {
      "text/plain": [
       "[<TabularCPD representing P(G:3 | I:2, D:2) at 0x7fa16cabc7d0>,\n",
       " <TabularCPD representing P(D:2) at 0x7fa16cabc790>,\n",
       " <TabularCPD representing P(I:2) at 0x7fa16cabc810>,\n",
       " <TabularCPD representing P(L:2 | G:3) at 0x7fa16cabc850>,\n",
       " <TabularCPD representing P(S:2 | I:2) at 0x7fa16cabc890>]"
      ]
     },
     "execution_count": 12,
     "metadata": {},
     "output_type": "execute_result"
    }
   ],
   "source": [
    "student_model.get_cpds()"
   ]
  },
  {
   "cell_type": "code",
   "execution_count": 13,
   "metadata": {},
   "outputs": [
    {
     "data": {
      "text/plain": [
       "(D _|_ S, I)\n",
       "(D _|_ I | S)\n",
       "(D _|_ S | I)\n",
       "(D _|_ L | G)\n",
       "(D _|_ S | L, I)\n",
       "(D _|_ L | S, G)\n",
       "(D _|_ L, S | I, G)\n",
       "(D _|_ S | L, I, G)\n",
       "(D _|_ L | S, I, G)\n",
       "(G _|_ S | I)\n",
       "(G _|_ S | L, I)\n",
       "(G _|_ S | D, I)\n",
       "(G _|_ S | L, D, I)\n",
       "(I _|_ D)\n",
       "(I _|_ D | S)\n",
       "(I _|_ L | G)\n",
       "(I _|_ L | D, G)\n",
       "(I _|_ L | S, G)\n",
       "(I _|_ L | D, S, G)\n",
       "(L _|_ S | I)\n",
       "(L _|_ D, S, I | G)\n",
       "(L _|_ S | D, I)\n",
       "(L _|_ S, I | D, G)\n",
       "(L _|_ D, I | S, G)\n",
       "(L _|_ D, S | I, G)\n",
       "(L _|_ I | D, S, G)\n",
       "(L _|_ S | D, I, G)\n",
       "(L _|_ D | S, I, G)\n",
       "(S _|_ D)\n",
       "(S _|_ L, D, G | I)\n",
       "(S _|_ L | G)\n",
       "(S _|_ D, G | L, I)\n",
       "(S _|_ L, G | D, I)\n",
       "(S _|_ L | D, G)\n",
       "(S _|_ L, D | I, G)\n",
       "(S _|_ G | L, D, I)\n",
       "(S _|_ D | L, I, G)\n",
       "(S _|_ L | D, I, G)"
      ]
     },
     "execution_count": 13,
     "metadata": {},
     "output_type": "execute_result"
    }
   ],
   "source": [
    "student_model.get_independencies()"
   ]
  },
  {
   "cell_type": "code",
   "execution_count": 20,
   "metadata": {},
   "outputs": [
    {
     "name": "stderr",
     "output_type": "stream",
     "text": [
      "Finding Elimination Order: : 100%|██████████| 2/2 [00:00<00:00, 3087.45it/s]\n",
      "Eliminating: S: 100%|██████████| 2/2 [00:00<00:00, 436.43it/s]"
     ]
    },
    {
     "name": "stdout",
     "output_type": "stream",
     "text": [
      "+------+----------+\n",
      "| G    |   phi(G) |\n",
      "+======+==========+\n",
      "| G(0) |   0.9000 |\n",
      "+------+----------+\n",
      "| G(1) |   0.0800 |\n",
      "+------+----------+\n",
      "| G(2) |   0.0200 |\n",
      "+------+----------+\n"
     ]
    },
    {
     "name": "stderr",
     "output_type": "stream",
     "text": [
      "\n"
     ]
    }
   ],
   "source": [
    "from pgmpy.inference import VariableElimination \n",
    "student_infer = VariableElimination(student_model)  \n",
    " \n",
    "    \n",
    "prob_G = student_infer.query(   \n",
    "            variables=['G'],    \n",
    "            evidence={'I': 1, 'D': 0})  \n",
    "print(prob_G)"
   ]
  },
  {
   "cell_type": "code",
   "execution_count": null,
   "metadata": {},
   "outputs": [],
   "source": []
  },
  {
   "cell_type": "code",
   "execution_count": 21,
   "metadata": {},
   "outputs": [
    {
     "data": {
      "text/html": [
       "<div>\n",
       "<style scoped>\n",
       "    .dataframe tbody tr th:only-of-type {\n",
       "        vertical-align: middle;\n",
       "    }\n",
       "\n",
       "    .dataframe tbody tr th {\n",
       "        vertical-align: top;\n",
       "    }\n",
       "\n",
       "    .dataframe thead th {\n",
       "        text-align: right;\n",
       "    }\n",
       "</style>\n",
       "<table border=\"1\" class=\"dataframe\">\n",
       "  <thead>\n",
       "    <tr style=\"text-align: right;\">\n",
       "      <th></th>\n",
       "      <th>D</th>\n",
       "      <th>I</th>\n",
       "      <th>G</th>\n",
       "      <th>L</th>\n",
       "      <th>S</th>\n",
       "    </tr>\n",
       "  </thead>\n",
       "  <tbody>\n",
       "    <tr>\n",
       "      <td>0</td>\n",
       "      <td>0</td>\n",
       "      <td>1</td>\n",
       "      <td>0</td>\n",
       "      <td>0</td>\n",
       "      <td>0</td>\n",
       "    </tr>\n",
       "    <tr>\n",
       "      <td>1</td>\n",
       "      <td>1</td>\n",
       "      <td>1</td>\n",
       "      <td>1</td>\n",
       "      <td>1</td>\n",
       "      <td>1</td>\n",
       "    </tr>\n",
       "    <tr>\n",
       "      <td>2</td>\n",
       "      <td>1</td>\n",
       "      <td>0</td>\n",
       "      <td>1</td>\n",
       "      <td>0</td>\n",
       "      <td>0</td>\n",
       "    </tr>\n",
       "    <tr>\n",
       "      <td>3</td>\n",
       "      <td>1</td>\n",
       "      <td>1</td>\n",
       "      <td>0</td>\n",
       "      <td>1</td>\n",
       "      <td>1</td>\n",
       "    </tr>\n",
       "    <tr>\n",
       "      <td>4</td>\n",
       "      <td>0</td>\n",
       "      <td>1</td>\n",
       "      <td>1</td>\n",
       "      <td>1</td>\n",
       "      <td>1</td>\n",
       "    </tr>\n",
       "  </tbody>\n",
       "</table>\n",
       "</div>"
      ],
      "text/plain": [
       "   D  I  G  L  S\n",
       "0  0  1  0  0  0\n",
       "1  1  1  1  1  1\n",
       "2  1  0  1  0  0\n",
       "3  1  1  0  1  1\n",
       "4  0  1  1  1  1"
      ]
     },
     "execution_count": 21,
     "metadata": {},
     "output_type": "execute_result"
    }
   ],
   "source": [
    "# 生成数据  \n",
    "import numpy as np  \n",
    "import pandas as pd \n",
    " \n",
    "    \n",
    "raw_data = np.random.randint(low=0, high=2, size=(1000, 5)) \n",
    "data = pd.DataFrame(raw_data, columns=['D', 'I', 'G', 'L', 'S'])    \n",
    "\n",
    "data.head()"
   ]
  },
  {
   "cell_type": "code",
   "execution_count": 23,
   "metadata": {},
   "outputs": [
    {
     "name": "stdout",
     "output_type": "stream",
     "text": [
      "CPD of D:\n",
      "+------+-------+\n",
      "| D(0) | 0.492 |\n",
      "+------+-------+\n",
      "| D(1) | 0.508 |\n",
      "+------+-------+ \n",
      "\n",
      "CPD of G:\n",
      "+------+---------------------+--------------------+---------------------+--------------------+\n",
      "| D    | D(0)                | D(0)               | D(1)                | D(1)               |\n",
      "+------+---------------------+--------------------+---------------------+--------------------+\n",
      "| I    | I(0)                | I(1)               | I(0)                | I(1)               |\n",
      "+------+---------------------+--------------------+---------------------+--------------------+\n",
      "| G(0) | 0.5062240663900415  | 0.5059760956175299 | 0.49056603773584906 | 0.5102880658436214 |\n",
      "+------+---------------------+--------------------+---------------------+--------------------+\n",
      "| G(1) | 0.49377593360995853 | 0.4940239043824701 | 0.5094339622641509  | 0.4897119341563786 |\n",
      "+------+---------------------+--------------------+---------------------+--------------------+ \n",
      "\n",
      "CPD of I:\n",
      "+------+-------+\n",
      "| I(0) | 0.506 |\n",
      "+------+-------+\n",
      "| I(1) | 0.494 |\n",
      "+------+-------+ \n",
      "\n",
      "CPD of L:\n",
      "+------+--------------------+--------------------+\n",
      "| G    | G(0)               | G(1)               |\n",
      "+------+--------------------+--------------------+\n",
      "| L(0) | 0.4990059642147117 | 0.5171026156941649 |\n",
      "+------+--------------------+--------------------+\n",
      "| L(1) | 0.5009940357852882 | 0.482897384305835  |\n",
      "+------+--------------------+--------------------+ \n",
      "\n",
      "CPD of S:\n",
      "+------+--------------------+--------------------+\n",
      "| I    | I(0)               | I(1)               |\n",
      "+------+--------------------+--------------------+\n",
      "| S(0) | 0.5098814229249012 | 0.5242914979757085 |\n",
      "+------+--------------------+--------------------+\n",
      "| S(1) | 0.4901185770750988 | 0.4757085020242915 |\n",
      "+------+--------------------+--------------------+ \n",
      "\n"
     ]
    }
   ],
   "source": [
    "# 定义模型  \n",
    "from pgmpy.models import BayesianModel  \n",
    "from pgmpy.estimators import MaximumLikelihoodEstimator, BayesianEstimator  \n",
    " \n",
    "    \n",
    "model = BayesianModel([('D', 'G'), ('I', 'G'), ('I', 'S'), ('G', 'L')]) \n",
    " \n",
    "    \n",
    "# 基于极大似然估计进行模型训练    \n",
    "model.fit(data, estimator=MaximumLikelihoodEstimator)   \n",
    "for cpd in model.get_cpds():    \n",
    "    # 打印条件概率分布  \n",
    "    print(\"CPD of {variable}:\".format(variable=cpd.variable))   \n",
    "    print(cpd,'\\n')"
   ]
  },
  {
   "cell_type": "code",
   "execution_count": null,
   "metadata": {},
   "outputs": [],
   "source": []
  },
  {
   "cell_type": "code",
   "execution_count": null,
   "metadata": {},
   "outputs": [],
   "source": []
  },
  {
   "cell_type": "code",
   "execution_count": null,
   "metadata": {},
   "outputs": [],
   "source": []
  },
  {
   "cell_type": "code",
   "execution_count": null,
   "metadata": {},
   "outputs": [],
   "source": []
  },
  {
   "cell_type": "code",
   "execution_count": null,
   "metadata": {},
   "outputs": [],
   "source": []
  },
  {
   "cell_type": "code",
   "execution_count": null,
   "metadata": {},
   "outputs": [],
   "source": []
  },
  {
   "cell_type": "code",
   "execution_count": null,
   "metadata": {},
   "outputs": [],
   "source": []
  }
 ],
 "metadata": {
  "kernelspec": {
   "display_name": "Python 3",
   "language": "python",
   "name": "python3"
  },
  "language_info": {
   "codemirror_mode": {
    "name": "ipython",
    "version": 3
   },
   "file_extension": ".py",
   "mimetype": "text/x-python",
   "name": "python",
   "nbconvert_exporter": "python",
   "pygments_lexer": "ipython3",
   "version": "3.7.3"
  }
 },
 "nbformat": 4,
 "nbformat_minor": 2
}
