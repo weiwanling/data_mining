{
 "cells": [
  {
   "cell_type": "code",
   "execution_count": 1,
   "metadata": {},
   "outputs": [],
   "source": [
    "from pgmpy.factors.discrete import TabularCPD\n",
    "from pgmpy.models import BayesianModel"
   ]
  },
  {
   "cell_type": "code",
   "execution_count": 2,
   "metadata": {},
   "outputs": [],
   "source": [
    "user_model = BayesianModel([('R', 'I'),\n",
    "                               ('R', 'G'),\n",
    "                               ('R', 'H'),\n",
    "                               ('R', 'K'),\n",
    "                               ('H','K') \n",
    "                           ])"
   ]
  },
  {
   "cell_type": "markdown",
   "metadata": {},
   "source": [
    "<img src=\"./tujiegou.png\"  height=\"330\" width=\"495\">\n",
    "<img src=\"./biao123.png\"  height=\"530\" width=\"895\">\n",
    "<img src=\"./biao45.png\"  height=\"530\" width=\"895\">\n"
   ]
  },
  {
   "cell_type": "code",
   "execution_count": 7,
   "metadata": {},
   "outputs": [],
   "source": [
    "fannum_cpd = TabularCPD( \n",
    "    variable='K', # 节点名称    \n",
    "    variable_card=2, # 节点取值个数   \n",
    "    values=[\n",
    "                   [0.89,0.01,0.6,0.9], # 该节点的概率表    \n",
    "                   [0.11,0.99,0.4,0.1]\n",
    "                   ] ,\n",
    "                 evidence=['R', 'H'], # 该节点的依赖节点 \n",
    "                evidence_card=[2, 2] # 依赖节点的取值个数    \n",
    ")   \n",
    " \n",
    "    \n",
    "account_cpd = TabularCPD(    \n",
    "            variable='R',   \n",
    "            variable_card=2,    \n",
    "            values=[[0.4, 0.6]] \n",
    ")   \n",
    " \n",
    "    \n",
    "header_cpd = TabularCPD( \n",
    "            variable='H',   \n",
    "            variable_card=2,\n",
    "            values=[\n",
    "                    [0.9,0.2],\n",
    "                    [0.1,0.8]\n",
    "                   ],\n",
    "            evidence=['R'], \n",
    "            evidence_card=[2] \n",
    ")   \n",
    " \n",
    "    \n",
    "dynamic_cpd = TabularCPD(    \n",
    "            variable='G',   \n",
    "            variable_card=2,    \n",
    "            values=[\n",
    "                    [0.82,0.1],   \n",
    "                    [0.18,0.9]\n",
    "                   ],  \n",
    "            evidence=['R'], \n",
    "            evidence_card=[2]   \n",
    ")   \n",
    " \n",
    "    \n",
    "info_cpd = TabularCPD(   \n",
    "            variable='I',   \n",
    "            variable_card=2,    \n",
    "            values=[\n",
    "                    [0.75, 0.3],    \n",
    "                    [0.25, 0.7]\n",
    "                   ],   \n",
    "            evidence=['R'], \n",
    "            evidence_card=[2]   \n",
    ")"
   ]
  },
  {
   "cell_type": "code",
   "execution_count": 8,
   "metadata": {},
   "outputs": [],
   "source": [
    "user_model.add_cpds(\n",
    "                    account_cpd,\n",
    "                    info_cpd,\n",
    "                    dynamic_cpd,\n",
    "                    header_cpd,\n",
    "                    fannum_cpd\n",
    "                    )"
   ]
  },
  {
   "cell_type": "code",
   "execution_count": 15,
   "metadata": {},
   "outputs": [
    {
     "name": "stderr",
     "output_type": "stream",
     "text": [
      "Finding Elimination Order: : 100%|██████████| 3/3 [00:00<00:00, 3051.14it/s]\n",
      "Eliminating: H: 100%|██████████| 3/3 [00:00<00:00, 640.03it/s]"
     ]
    },
    {
     "name": "stdout",
     "output_type": "stream",
     "text": [
      "+------+----------+\n",
      "| K    |   phi(K) |\n",
      "+======+==========+\n",
      "| K(0) |   0.8020 |\n",
      "+------+----------+\n",
      "| K(1) |   0.1980 |\n",
      "+------+----------+\n"
     ]
    },
    {
     "name": "stderr",
     "output_type": "stream",
     "text": [
      "\n"
     ]
    }
   ],
   "source": [
    "from pgmpy.inference import VariableElimination \n",
    "user_infer = VariableElimination(user_model)  \n",
    " \n",
    "    \n",
    "prob_K = user_infer.query(   \n",
    "                          variables=['K'],    \n",
    "                          evidence={'R': 0}\n",
    "                        )  \n",
    "print(prob_K)"
   ]
  },
  {
   "cell_type": "code",
   "execution_count": 10,
   "metadata": {},
   "outputs": [
    {
     "data": {
      "text/html": [
       "<div>\n",
       "<style scoped>\n",
       "    .dataframe tbody tr th:only-of-type {\n",
       "        vertical-align: middle;\n",
       "    }\n",
       "\n",
       "    .dataframe tbody tr th {\n",
       "        vertical-align: top;\n",
       "    }\n",
       "\n",
       "    .dataframe thead th {\n",
       "        text-align: right;\n",
       "    }\n",
       "</style>\n",
       "<table border=\"1\" class=\"dataframe\">\n",
       "  <thead>\n",
       "    <tr style=\"text-align: right;\">\n",
       "      <th></th>\n",
       "      <th>R</th>\n",
       "      <th>I</th>\n",
       "      <th>G</th>\n",
       "      <th>K</th>\n",
       "      <th>H</th>\n",
       "    </tr>\n",
       "  </thead>\n",
       "  <tbody>\n",
       "    <tr>\n",
       "      <td>0</td>\n",
       "      <td>1</td>\n",
       "      <td>0</td>\n",
       "      <td>0</td>\n",
       "      <td>0</td>\n",
       "      <td>1</td>\n",
       "    </tr>\n",
       "    <tr>\n",
       "      <td>1</td>\n",
       "      <td>1</td>\n",
       "      <td>1</td>\n",
       "      <td>0</td>\n",
       "      <td>1</td>\n",
       "      <td>0</td>\n",
       "    </tr>\n",
       "    <tr>\n",
       "      <td>2</td>\n",
       "      <td>0</td>\n",
       "      <td>1</td>\n",
       "      <td>0</td>\n",
       "      <td>0</td>\n",
       "      <td>1</td>\n",
       "    </tr>\n",
       "    <tr>\n",
       "      <td>3</td>\n",
       "      <td>0</td>\n",
       "      <td>1</td>\n",
       "      <td>1</td>\n",
       "      <td>0</td>\n",
       "      <td>0</td>\n",
       "    </tr>\n",
       "    <tr>\n",
       "      <td>4</td>\n",
       "      <td>0</td>\n",
       "      <td>1</td>\n",
       "      <td>1</td>\n",
       "      <td>0</td>\n",
       "      <td>1</td>\n",
       "    </tr>\n",
       "  </tbody>\n",
       "</table>\n",
       "</div>"
      ],
      "text/plain": [
       "   R  I  G  K  H\n",
       "0  1  0  0  0  1\n",
       "1  1  1  0  1  0\n",
       "2  0  1  0  0  1\n",
       "3  0  1  1  0  0\n",
       "4  0  1  1  0  1"
      ]
     },
     "execution_count": 10,
     "metadata": {},
     "output_type": "execute_result"
    }
   ],
   "source": [
    "# 生成数据  \n",
    "import numpy as np  \n",
    "import pandas as pd \n",
    " \n",
    "    \n",
    "raw_data = np.random.randint(low=0, high=2, size=(1000, 5)) \n",
    "data = pd.DataFrame(raw_data, columns=['R', 'I', 'G', 'K', 'H'])    \n",
    "data.head()"
   ]
  },
  {
   "cell_type": "code",
   "execution_count": 13,
   "metadata": {},
   "outputs": [
    {
     "name": "stdout",
     "output_type": "stream",
     "text": [
      "CPD of G:\n",
      "+------+---------------------+--------------------+\n",
      "| R    | R(0)                | R(1)               |\n",
      "+------+---------------------+--------------------+\n",
      "| G(0) | 0.48893360160965793 | 0.4711729622266402 |\n",
      "+------+---------------------+--------------------+\n",
      "| G(1) | 0.5110663983903421  | 0.5288270377733598 |\n",
      "+------+---------------------+--------------------+\n",
      "CPD of H:\n",
      "+------+---------------------+---------------------+\n",
      "| R    | R(0)                | R(1)                |\n",
      "+------+---------------------+---------------------+\n",
      "| H(0) | 0.545271629778672   | 0.5248508946322068  |\n",
      "+------+---------------------+---------------------+\n",
      "| H(1) | 0.45472837022132795 | 0.47514910536779326 |\n",
      "+------+---------------------+---------------------+\n",
      "CPD of I:\n",
      "+------+---------------------+---------------------+\n",
      "| R    | R(0)                | R(1)                |\n",
      "+------+---------------------+---------------------+\n",
      "| I(0) | 0.5070422535211268  | 0.5228628230616302  |\n",
      "+------+---------------------+---------------------+\n",
      "| I(1) | 0.49295774647887325 | 0.47713717693836977 |\n",
      "+------+---------------------+---------------------+\n",
      "CPD of K:\n",
      "+------+--------------------+--------------------+--------------------+--------------------+\n",
      "| H    | H(0)               | H(0)               | H(1)               | H(1)               |\n",
      "+------+--------------------+--------------------+--------------------+--------------------+\n",
      "| R    | R(0)               | R(1)               | R(0)               | R(1)               |\n",
      "+------+--------------------+--------------------+--------------------+--------------------+\n",
      "| K(0) | 0.4944649446494465 | 0.5568181818181818 | 0.5088495575221239 | 0.5230125523012552 |\n",
      "+------+--------------------+--------------------+--------------------+--------------------+\n",
      "| K(1) | 0.5055350553505535 | 0.4431818181818182 | 0.4911504424778761 | 0.4769874476987448 |\n",
      "+------+--------------------+--------------------+--------------------+--------------------+\n",
      "CPD of R:\n",
      "+------+-------+\n",
      "| R(0) | 0.497 |\n",
      "+------+-------+\n",
      "| R(1) | 0.503 |\n",
      "+------+-------+\n"
     ]
    }
   ],
   "source": [
    "# 定义模型  \n",
    "from pgmpy.models import BayesianModel  \n",
    "from pgmpy.estimators import MaximumLikelihoodEstimator, BayesianEstimator  \n",
    "    \n",
    "model = BayesianModel([('R', 'I'), ('R', 'G'), ('R', 'K'), ('R', 'H'),('H','K')]) \n",
    "    \n",
    "# 基于极大似然估计进行模型训练    \n",
    "model.fit(data, estimator=MaximumLikelihoodEstimator)   \n",
    "\n",
    "for cpd in model.get_cpds():    \n",
    "    # 打印条件概率分布  \n",
    "    print(\"CPD of {variable}:\".format(variable=cpd.variable))   \n",
    "    print(cpd)"
   ]
  },
  {
   "cell_type": "code",
   "execution_count": null,
   "metadata": {},
   "outputs": [],
   "source": []
  },
  {
   "cell_type": "code",
   "execution_count": null,
   "metadata": {},
   "outputs": [],
   "source": []
  }
 ],
 "metadata": {
  "kernelspec": {
   "display_name": "Python 3",
   "language": "python",
   "name": "python3"
  },
  "language_info": {
   "codemirror_mode": {
    "name": "ipython",
    "version": 3
   },
   "file_extension": ".py",
   "mimetype": "text/x-python",
   "name": "python",
   "nbconvert_exporter": "python",
   "pygments_lexer": "ipython3",
   "version": "3.7.3"
  }
 },
 "nbformat": 4,
 "nbformat_minor": 2
}
